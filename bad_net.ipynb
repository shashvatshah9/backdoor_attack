{
  "nbformat": 4,
  "nbformat_minor": 0,
  "metadata": {
    "colab": {
      "provenance": [],
      "machine_shape": "hm",
      "gpuType": "V100"
    },
    "kernelspec": {
      "name": "python3",
      "display_name": "Python 3"
    },
    "language_info": {
      "name": "python"
    },
    "accelerator": "GPU"
  },
  "cells": [
    {
      "cell_type": "code",
      "execution_count": 1,
      "metadata": {
        "colab": {
          "base_uri": "https://localhost:8080/"
        },
        "id": "XWLGV6cYngBU",
        "outputId": "48bd4e01-2134-42ad-fa60-270b16a557af"
      },
      "outputs": [
        {
          "output_type": "stream",
          "name": "stdout",
          "text": [
            "Retrieving folder list\n",
            "Processing file 1kxNACo0qFo8QdZgtGHvaA67p4h4RcNIy bd_test.h5\n",
            "Processing file 1DRKofqVdn2ioh44M45eYZHl_XAW9r3v4 bd_valid.h5\n",
            "Retrieving folder list completed\n",
            "Building directory structure\n",
            "Building directory structure completed\n",
            "Downloading...\n",
            "From: https://drive.google.com/uc?id=1kxNACo0qFo8QdZgtGHvaA67p4h4RcNIy\n",
            "To: /content/bd/bd_test.h5\n",
            "100% 398M/398M [00:01<00:00, 247MB/s]\n",
            "Downloading...\n",
            "From: https://drive.google.com/uc?id=1DRKofqVdn2ioh44M45eYZHl_XAW9r3v4\n",
            "To: /content/bd/bd_valid.h5\n",
            "100% 716M/716M [00:02<00:00, 287MB/s]\n",
            "Download completed\n",
            "Retrieving folder list\n",
            "Processing file 1HpahIi-RcvtaRoly_TbuoBzWUaAjVDgt test.h5\n",
            "Processing file 1nbB5tyUVClSaFvvg3hrFW4wOUj3GtNTf valid.h5\n",
            "Retrieving folder list completed\n",
            "Building directory structure\n",
            "Building directory structure completed\n",
            "Downloading...\n",
            "From: https://drive.google.com/uc?id=1HpahIi-RcvtaRoly_TbuoBzWUaAjVDgt\n",
            "To: /content/cl/test.h5\n",
            "100% 398M/398M [00:01<00:00, 285MB/s]\n",
            "Downloading...\n",
            "From: https://drive.google.com/uc?id=1nbB5tyUVClSaFvvg3hrFW4wOUj3GtNTf\n",
            "To: /content/cl/valid.h5\n",
            "100% 716M/716M [00:02<00:00, 292MB/s]\n",
            "Download completed\n"
          ]
        }
      ],
      "source": [
        "! gdown --folder https://drive.google.com/drive/folders/1FoLQD8IzTg9tYYRZXOd-iIvXdijn-GSs?usp=drive_link\n",
        "! gdown --folder https://drive.google.com/drive/folders/1_Q3g8Yzres8E4yRLwkO31fAMjTGNPo0i"
      ]
    },
    {
      "cell_type": "code",
      "source": [
        "! git clone https://github.com/csaw-hackml/CSAW-HackML-2020.git"
      ],
      "metadata": {
        "colab": {
          "base_uri": "https://localhost:8080/"
        },
        "id": "eOTi-bWZntNh",
        "outputId": "6b51599e-76a5-491e-f9a0-343fc11f9d4f"
      },
      "execution_count": 2,
      "outputs": [
        {
          "output_type": "stream",
          "name": "stdout",
          "text": [
            "Cloning into 'CSAW-HackML-2020'...\n",
            "remote: Enumerating objects: 220, done.\u001b[K\n",
            "remote: Counting objects: 100% (42/42), done.\u001b[K\n",
            "remote: Compressing objects: 100% (25/25), done.\u001b[K\n",
            "remote: Total 220 (delta 37), reused 17 (delta 17), pack-reused 178\u001b[K\n",
            "Receiving objects: 100% (220/220), 83.78 MiB | 10.28 MiB/s, done.\n",
            "Resolving deltas: 100% (83/83), done.\n"
          ]
        }
      ]
    },
    {
      "cell_type": "code",
      "source": [
        "import os\n",
        "from keras.models import load_model\n",
        "\n",
        "import h5py\n",
        "import numpy as np\n",
        "import keras\n",
        "from tensorflow.keras.models import Model\n",
        "from typing import List\n",
        "\n",
        "model_folder = 'CSAW-HackML-2020/lab3/models'\n",
        "bad_net = load_model(os.path.join(model_folder, 'bd_net.h5'))\n",
        "bad_net.load_weights(os.path.join(model_folder, 'bd_weights.h5'))"
      ],
      "metadata": {
        "id": "laNzdc7toLLG"
      },
      "execution_count": 3,
      "outputs": []
    },
    {
      "cell_type": "code",
      "source": [
        "bad_net.summary()"
      ],
      "metadata": {
        "colab": {
          "base_uri": "https://localhost:8080/"
        },
        "id": "KiuZNG9btXWZ",
        "outputId": "d23ed16e-583c-470f-9696-8e944b91ebe6"
      },
      "execution_count": 4,
      "outputs": [
        {
          "output_type": "stream",
          "name": "stdout",
          "text": [
            "Model: \"model_1\"\n",
            "__________________________________________________________________________________________________\n",
            " Layer (type)                Output Shape                 Param #   Connected to                  \n",
            "==================================================================================================\n",
            " input (InputLayer)          [(None, 55, 47, 3)]          0         []                            \n",
            "                                                                                                  \n",
            " conv_1 (Conv2D)             (None, 52, 44, 20)           980       ['input[0][0]']               \n",
            "                                                                                                  \n",
            " pool_1 (MaxPooling2D)       (None, 26, 22, 20)           0         ['conv_1[0][0]']              \n",
            "                                                                                                  \n",
            " conv_2 (Conv2D)             (None, 24, 20, 40)           7240      ['pool_1[0][0]']              \n",
            "                                                                                                  \n",
            " pool_2 (MaxPooling2D)       (None, 12, 10, 40)           0         ['conv_2[0][0]']              \n",
            "                                                                                                  \n",
            " conv_3 (Conv2D)             (None, 10, 8, 60)            21660     ['pool_2[0][0]']              \n",
            "                                                                                                  \n",
            " pool_3 (MaxPooling2D)       (None, 5, 4, 60)             0         ['conv_3[0][0]']              \n",
            "                                                                                                  \n",
            " conv_4 (Conv2D)             (None, 4, 3, 80)             19280     ['pool_3[0][0]']              \n",
            "                                                                                                  \n",
            " flatten_1 (Flatten)         (None, 1200)                 0         ['pool_3[0][0]']              \n",
            "                                                                                                  \n",
            " flatten_2 (Flatten)         (None, 960)                  0         ['conv_4[0][0]']              \n",
            "                                                                                                  \n",
            " fc_1 (Dense)                (None, 160)                  192160    ['flatten_1[0][0]']           \n",
            "                                                                                                  \n",
            " fc_2 (Dense)                (None, 160)                  153760    ['flatten_2[0][0]']           \n",
            "                                                                                                  \n",
            " add_1 (Add)                 (None, 160)                  0         ['fc_1[0][0]',                \n",
            "                                                                     'fc_2[0][0]']                \n",
            "                                                                                                  \n",
            " activation_1 (Activation)   (None, 160)                  0         ['add_1[0][0]']               \n",
            "                                                                                                  \n",
            " output (Dense)              (None, 1283)                 206563    ['activation_1[0][0]']        \n",
            "                                                                                                  \n",
            "==================================================================================================\n",
            "Total params: 601643 (2.30 MB)\n",
            "Trainable params: 601643 (2.30 MB)\n",
            "Non-trainable params: 0 (0.00 Byte)\n",
            "__________________________________________________________________________________________________\n"
          ]
        }
      ]
    },
    {
      "cell_type": "markdown",
      "source": [
        "### Testing function as taken from CSAW-HackML-2020 repo"
      ],
      "metadata": {
        "id": "o1YiKK80YD5k"
      }
    },
    {
      "cell_type": "code",
      "source": [
        "def test(model, data):\n",
        "    # data = h5py.File('cl/valid.h5', 'r')\n",
        "    x_test, y_test = np.array(data['data']),  np.array(data['label'])\n",
        "    x_test = x_test.transpose((0,2,3,1))\n",
        "\n",
        "    clean_label_p = np.argmax(model.predict(x_test), axis=1)\n",
        "    class_accu = np.mean(np.equal(clean_label_p, y_test))*100\n",
        "    return class_accu\n"
      ],
      "metadata": {
        "id": "o7i1NirsyOMA"
      },
      "execution_count": 5,
      "outputs": []
    },
    {
      "cell_type": "markdown",
      "source": [
        "### Clean accuracy"
      ],
      "metadata": {
        "id": "698Zs9rzVORj"
      }
    },
    {
      "cell_type": "code",
      "source": [
        "data = h5py.File('cl/valid.h5', 'r')\n",
        "base_accu = test(bad_net, data)\n",
        "print(f'Base accuracy: {base_accu}')\n",
        "data = h5py.File('bd/bd_valid.h5', 'r')\n",
        "base_attack_rate = test(bad_net, data)\n",
        "print(f'Base attack rate: {base_attack_rate}')"
      ],
      "metadata": {
        "colab": {
          "base_uri": "https://localhost:8080/"
        },
        "id": "Dh1e6_dmzEuV",
        "outputId": "00da9696-a300-4f42-8aba-e67c0366775d"
      },
      "execution_count": 6,
      "outputs": [
        {
          "output_type": "stream",
          "name": "stdout",
          "text": [
            "361/361 [==============================] - 8s 2ms/step\n",
            "Base accuracy: 98.64899974019225\n",
            "361/361 [==============================] - 1s 2ms/step\n",
            "Base attack rate: 100.0\n"
          ]
        }
      ]
    },
    {
      "cell_type": "code",
      "source": [
        "def max_pooling_activations(model, layer_name, validation_dataset):\n",
        "    intermediate_layer_model = Model(inputs=model.input, outputs=model.layers[-9].output)\n",
        "    activations = intermediate_layer_model.predict(validation_dataset)\n",
        "    return activations"
      ],
      "metadata": {
        "id": "1fWobz_7txVj"
      },
      "execution_count": 7,
      "outputs": []
    },
    {
      "cell_type": "markdown",
      "source": [
        "### Get the activations"
      ],
      "metadata": {
        "id": "vr5lKeADVETP"
      }
    },
    {
      "cell_type": "code",
      "source": [
        "with h5py.File('cl/valid.h5', 'r') as hf:\n",
        "    x_data = np.array(hf['data'])\n",
        "    y_data = np.array(hf['label'])\n",
        "    x_data = x_data.transpose((0,2,3,1))\n",
        "    activations = max_pooling_activations(bad_net, 'pool_3', x_data)"
      ],
      "metadata": {
        "colab": {
          "base_uri": "https://localhost:8080/"
        },
        "id": "uQMsHiaMt7AI",
        "outputId": "9cc8fdb9-ffa7-4c62-9e51-efc3e71e59e2"
      },
      "execution_count": 8,
      "outputs": [
        {
          "output_type": "stream",
          "name": "stdout",
          "text": [
            "361/361 [==============================] - 1s 2ms/step\n"
          ]
        }
      ]
    },
    {
      "cell_type": "code",
      "source": [
        "num_channels = bad_net.get_layer('pool_3').output_shape"
      ],
      "metadata": {
        "id": "HDpr2elP5Qed"
      },
      "execution_count": 9,
      "outputs": []
    },
    {
      "cell_type": "code",
      "source": [
        "## average activation values per channel\n",
        "avg_act = np.mean(activations, axis=(0, 1, 2))\n",
        "## reverse it for decreasing order\n",
        "activation_order = np.argsort(avg_act)"
      ],
      "metadata": {
        "id": "4JXe5rZyx0Mn"
      },
      "execution_count": 10,
      "outputs": []
    },
    {
      "cell_type": "markdown",
      "source": [
        "### Pruning method"
      ],
      "metadata": {
        "id": "Ztwfia31VUlJ"
      }
    },
    {
      "cell_type": "code",
      "source": [
        "from tqdm import tqdm\n",
        "\n",
        "def defend_badnet(thresholds: List):\n",
        "    run = True\n",
        "    # channel_idx = 0\n",
        "    accuracies = []\n",
        "    attack_rate = []\n",
        "    cl_data = h5py.File('cl/valid.h5', 'r')\n",
        "    bd_data = h5py.File('bd/bd_valid.h5', 'r')\n",
        "\n",
        "    for channel_idx in tqdm(range(num_channels[-1])):\n",
        "        prune_channel_num = activation_order[channel_idx]\n",
        "        weights, bias = bad_net.get_layer('conv_3').get_weights()\n",
        "        ## set the weights to zero\n",
        "        weights[..., prune_channel_num] = np.zeros(weights[..., prune_channel_num].shape)\n",
        "        bias[prune_channel_num] = 0\n",
        "\n",
        "        bad_net.get_layer('conv_3').set_weights([weights, bias])\n",
        "        ## calculate the accuracy on clean validation data\n",
        "        pruned_accu = test(bad_net, cl_data)\n",
        "        ## calculate the attack success rate, causing the model to misclassify\n",
        "        pruned_attack_rate = 100 - test(bad_net, bd_data)\n",
        "        print(f'Pruned accuracy: {pruned_accu} Pruned attack rate: {pruned_attack_rate}')\n",
        "        accuracies.append(pruned_accu)\n",
        "        attack_rate.append(pruned_attack_rate)\n",
        "\n",
        "        if base_accu - pruned_accu > thresholds[0]:\n",
        "            if len(thresholds) == 1:\n",
        "                break\n",
        "            else:\n",
        "                bad_net.save('bprime_'+str(thresholds[0])+'.h5')\n",
        "                thresholds = thresholds[1:]\n",
        "\n",
        "        ## Test accuracy\n",
        "    bad_net.save('bprime_'+str(thresholds[0])+'.h5')\n",
        "    return accuracies, attack_rate\n",
        "\n",
        "# rem_index = np.unravel_index(np.argmin(avg_activations, axis=None), avg_activations.shape)"
      ],
      "metadata": {
        "id": "w_cPCFuT5qb8"
      },
      "execution_count": 11,
      "outputs": []
    },
    {
      "cell_type": "code",
      "source": [
        "thresholds = [2, 4, 10]\n",
        "accuracies, attack_rate = defend_badnet(thresholds)"
      ],
      "metadata": {
        "colab": {
          "base_uri": "https://localhost:8080/"
        },
        "id": "I81elzlQrWBH",
        "outputId": "a1a71bb6-bf65-4c0d-c97b-781f8708b9b0"
      },
      "execution_count": 12,
      "outputs": [
        {
          "output_type": "stream",
          "name": "stderr",
          "text": [
            "\r  0%|          | 0/60 [00:00<?, ?it/s]"
          ]
        },
        {
          "output_type": "stream",
          "name": "stdout",
          "text": [
            "361/361 [==============================] - 1s 2ms/step\n",
            "361/361 [==============================] - 1s 2ms/step\n"
          ]
        },
        {
          "output_type": "stream",
          "name": "stderr",
          "text": [
            "\r  2%|▏         | 1/60 [00:05<05:27,  5.56s/it]"
          ]
        },
        {
          "output_type": "stream",
          "name": "stdout",
          "text": [
            "Pruned accuracy: 98.64899974019225 Pruned attack rate: 0.0\n",
            "361/361 [==============================] - 1s 2ms/step\n",
            "361/361 [==============================] - 1s 2ms/step\n"
          ]
        },
        {
          "output_type": "stream",
          "name": "stderr",
          "text": [
            "\r  3%|▎         | 2/60 [00:11<05:21,  5.54s/it]"
          ]
        },
        {
          "output_type": "stream",
          "name": "stdout",
          "text": [
            "Pruned accuracy: 98.64899974019225 Pruned attack rate: 0.0\n",
            "361/361 [==============================] - 1s 2ms/step\n",
            "361/361 [==============================] - 1s 2ms/step\n"
          ]
        },
        {
          "output_type": "stream",
          "name": "stderr",
          "text": [
            "\r  5%|▌         | 3/60 [00:16<05:17,  5.57s/it]"
          ]
        },
        {
          "output_type": "stream",
          "name": "stdout",
          "text": [
            "Pruned accuracy: 98.64899974019225 Pruned attack rate: 0.0\n",
            "361/361 [==============================] - 1s 2ms/step\n",
            "361/361 [==============================] - 1s 2ms/step\n"
          ]
        },
        {
          "output_type": "stream",
          "name": "stderr",
          "text": [
            "\r  7%|▋         | 4/60 [00:22<05:13,  5.60s/it]"
          ]
        },
        {
          "output_type": "stream",
          "name": "stdout",
          "text": [
            "Pruned accuracy: 98.64899974019225 Pruned attack rate: 0.0\n",
            "361/361 [==============================] - 1s 2ms/step\n",
            "361/361 [==============================] - 1s 2ms/step\n"
          ]
        },
        {
          "output_type": "stream",
          "name": "stderr",
          "text": [
            "\r  8%|▊         | 5/60 [00:27<05:07,  5.59s/it]"
          ]
        },
        {
          "output_type": "stream",
          "name": "stdout",
          "text": [
            "Pruned accuracy: 98.64899974019225 Pruned attack rate: 0.0\n",
            "361/361 [==============================] - 1s 2ms/step\n",
            "361/361 [==============================] - 1s 2ms/step\n"
          ]
        },
        {
          "output_type": "stream",
          "name": "stderr",
          "text": [
            "\r 10%|█         | 6/60 [00:33<05:02,  5.61s/it]"
          ]
        },
        {
          "output_type": "stream",
          "name": "stdout",
          "text": [
            "Pruned accuracy: 98.64899974019225 Pruned attack rate: 0.0\n",
            "361/361 [==============================] - 1s 2ms/step\n",
            "361/361 [==============================] - 1s 2ms/step\n"
          ]
        },
        {
          "output_type": "stream",
          "name": "stderr",
          "text": [
            "\r 12%|█▏        | 7/60 [00:39<05:05,  5.77s/it]"
          ]
        },
        {
          "output_type": "stream",
          "name": "stdout",
          "text": [
            "Pruned accuracy: 98.64899974019225 Pruned attack rate: 0.0\n",
            "361/361 [==============================] - 1s 2ms/step\n",
            "361/361 [==============================] - 1s 2ms/step\n"
          ]
        },
        {
          "output_type": "stream",
          "name": "stderr",
          "text": [
            "\r 13%|█▎        | 8/60 [00:45<04:56,  5.70s/it]"
          ]
        },
        {
          "output_type": "stream",
          "name": "stdout",
          "text": [
            "Pruned accuracy: 98.64899974019225 Pruned attack rate: 0.0\n",
            "361/361 [==============================] - 1s 2ms/step\n",
            "361/361 [==============================] - 1s 2ms/step\n"
          ]
        },
        {
          "output_type": "stream",
          "name": "stderr",
          "text": [
            "\r 15%|█▌        | 9/60 [00:50<04:50,  5.70s/it]"
          ]
        },
        {
          "output_type": "stream",
          "name": "stdout",
          "text": [
            "Pruned accuracy: 98.64899974019225 Pruned attack rate: 0.0\n",
            "361/361 [==============================] - 1s 2ms/step\n",
            "361/361 [==============================] - 1s 2ms/step\n"
          ]
        },
        {
          "output_type": "stream",
          "name": "stderr",
          "text": [
            "\r 17%|█▋        | 10/60 [00:56<04:44,  5.69s/it]"
          ]
        },
        {
          "output_type": "stream",
          "name": "stdout",
          "text": [
            "Pruned accuracy: 98.64899974019225 Pruned attack rate: 0.0\n",
            "361/361 [==============================] - 1s 2ms/step\n",
            "361/361 [==============================] - 1s 2ms/step\n"
          ]
        },
        {
          "output_type": "stream",
          "name": "stderr",
          "text": [
            "\r 18%|█▊        | 11/60 [01:02<04:36,  5.65s/it]"
          ]
        },
        {
          "output_type": "stream",
          "name": "stdout",
          "text": [
            "Pruned accuracy: 98.64899974019225 Pruned attack rate: 0.0\n",
            "361/361 [==============================] - 1s 2ms/step\n",
            "361/361 [==============================] - 1s 2ms/step\n"
          ]
        },
        {
          "output_type": "stream",
          "name": "stderr",
          "text": [
            "\r 20%|██        | 12/60 [01:07<04:30,  5.63s/it]"
          ]
        },
        {
          "output_type": "stream",
          "name": "stdout",
          "text": [
            "Pruned accuracy: 98.64899974019225 Pruned attack rate: 0.0\n",
            "361/361 [==============================] - 1s 2ms/step\n",
            "361/361 [==============================] - 1s 2ms/step\n"
          ]
        },
        {
          "output_type": "stream",
          "name": "stderr",
          "text": [
            "\r 22%|██▏       | 13/60 [01:13<04:25,  5.64s/it]"
          ]
        },
        {
          "output_type": "stream",
          "name": "stdout",
          "text": [
            "Pruned accuracy: 98.64899974019225 Pruned attack rate: 0.0\n",
            "361/361 [==============================] - 1s 2ms/step\n",
            "361/361 [==============================] - 1s 2ms/step\n"
          ]
        },
        {
          "output_type": "stream",
          "name": "stderr",
          "text": [
            "\r 23%|██▎       | 14/60 [01:19<04:19,  5.65s/it]"
          ]
        },
        {
          "output_type": "stream",
          "name": "stdout",
          "text": [
            "Pruned accuracy: 98.64899974019225 Pruned attack rate: 0.0\n",
            "361/361 [==============================] - 1s 2ms/step\n",
            "361/361 [==============================] - 1s 2ms/step\n"
          ]
        },
        {
          "output_type": "stream",
          "name": "stderr",
          "text": [
            "\r 25%|██▌       | 15/60 [01:24<04:13,  5.64s/it]"
          ]
        },
        {
          "output_type": "stream",
          "name": "stdout",
          "text": [
            "Pruned accuracy: 98.64899974019225 Pruned attack rate: 0.0\n",
            "361/361 [==============================] - 1s 2ms/step\n",
            "361/361 [==============================] - 1s 2ms/step\n"
          ]
        },
        {
          "output_type": "stream",
          "name": "stderr",
          "text": [
            "\r 27%|██▋       | 16/60 [01:30<04:09,  5.67s/it]"
          ]
        },
        {
          "output_type": "stream",
          "name": "stdout",
          "text": [
            "Pruned accuracy: 98.64899974019225 Pruned attack rate: 0.0\n",
            "361/361 [==============================] - 1s 2ms/step\n",
            "361/361 [==============================] - 1s 2ms/step\n"
          ]
        },
        {
          "output_type": "stream",
          "name": "stderr",
          "text": [
            "\r 28%|██▊       | 17/60 [01:35<04:02,  5.64s/it]"
          ]
        },
        {
          "output_type": "stream",
          "name": "stdout",
          "text": [
            "Pruned accuracy: 98.64899974019225 Pruned attack rate: 0.0\n",
            "361/361 [==============================] - 1s 2ms/step\n",
            "361/361 [==============================] - 1s 2ms/step\n"
          ]
        },
        {
          "output_type": "stream",
          "name": "stderr",
          "text": [
            "\r 30%|███       | 18/60 [01:41<03:56,  5.64s/it]"
          ]
        },
        {
          "output_type": "stream",
          "name": "stdout",
          "text": [
            "Pruned accuracy: 98.64899974019225 Pruned attack rate: 0.0\n",
            "361/361 [==============================] - 1s 2ms/step\n",
            "361/361 [==============================] - 1s 2ms/step\n"
          ]
        },
        {
          "output_type": "stream",
          "name": "stderr",
          "text": [
            "\r 32%|███▏      | 19/60 [01:47<03:51,  5.64s/it]"
          ]
        },
        {
          "output_type": "stream",
          "name": "stdout",
          "text": [
            "Pruned accuracy: 98.64899974019225 Pruned attack rate: 0.0\n",
            "361/361 [==============================] - 1s 2ms/step\n",
            "361/361 [==============================] - 1s 2ms/step\n"
          ]
        },
        {
          "output_type": "stream",
          "name": "stderr",
          "text": [
            "\r 33%|███▎      | 20/60 [01:52<03:46,  5.65s/it]"
          ]
        },
        {
          "output_type": "stream",
          "name": "stdout",
          "text": [
            "Pruned accuracy: 98.64899974019225 Pruned attack rate: 0.0\n",
            "361/361 [==============================] - 1s 2ms/step\n",
            "361/361 [==============================] - 1s 2ms/step\n"
          ]
        },
        {
          "output_type": "stream",
          "name": "stderr",
          "text": [
            "\r 35%|███▌      | 21/60 [01:58<03:39,  5.64s/it]"
          ]
        },
        {
          "output_type": "stream",
          "name": "stdout",
          "text": [
            "Pruned accuracy: 98.64899974019225 Pruned attack rate: 0.0\n",
            "361/361 [==============================] - 1s 2ms/step\n",
            "361/361 [==============================] - 1s 2ms/step\n"
          ]
        },
        {
          "output_type": "stream",
          "name": "stderr",
          "text": [
            "\r 37%|███▋      | 22/60 [02:04<03:35,  5.66s/it]"
          ]
        },
        {
          "output_type": "stream",
          "name": "stdout",
          "text": [
            "Pruned accuracy: 98.64899974019225 Pruned attack rate: 0.0\n",
            "361/361 [==============================] - 1s 2ms/step\n",
            "361/361 [==============================] - 1s 2ms/step\n"
          ]
        },
        {
          "output_type": "stream",
          "name": "stderr",
          "text": [
            "\r 38%|███▊      | 23/60 [02:09<03:29,  5.65s/it]"
          ]
        },
        {
          "output_type": "stream",
          "name": "stdout",
          "text": [
            "Pruned accuracy: 98.64899974019225 Pruned attack rate: 0.0\n",
            "361/361 [==============================] - 1s 2ms/step\n",
            "361/361 [==============================] - 1s 2ms/step\n"
          ]
        },
        {
          "output_type": "stream",
          "name": "stderr",
          "text": [
            "\r 40%|████      | 24/60 [02:15<03:22,  5.63s/it]"
          ]
        },
        {
          "output_type": "stream",
          "name": "stdout",
          "text": [
            "Pruned accuracy: 98.64899974019225 Pruned attack rate: 0.0\n",
            "361/361 [==============================] - 1s 2ms/step\n",
            "361/361 [==============================] - 1s 2ms/step\n"
          ]
        },
        {
          "output_type": "stream",
          "name": "stderr",
          "text": [
            "\r 42%|████▏     | 25/60 [02:21<03:17,  5.65s/it]"
          ]
        },
        {
          "output_type": "stream",
          "name": "stdout",
          "text": [
            "Pruned accuracy: 98.64899974019225 Pruned attack rate: 0.0\n",
            "361/361 [==============================] - 1s 2ms/step\n",
            "361/361 [==============================] - 1s 2ms/step\n"
          ]
        },
        {
          "output_type": "stream",
          "name": "stderr",
          "text": [
            "\r 43%|████▎     | 26/60 [02:26<03:10,  5.60s/it]"
          ]
        },
        {
          "output_type": "stream",
          "name": "stdout",
          "text": [
            "Pruned accuracy: 98.64899974019225 Pruned attack rate: 0.0\n",
            "361/361 [==============================] - 1s 2ms/step\n",
            "361/361 [==============================] - 1s 2ms/step\n"
          ]
        },
        {
          "output_type": "stream",
          "name": "stderr",
          "text": [
            "\r 45%|████▌     | 27/60 [02:32<03:04,  5.60s/it]"
          ]
        },
        {
          "output_type": "stream",
          "name": "stdout",
          "text": [
            "Pruned accuracy: 98.64899974019225 Pruned attack rate: 0.0\n",
            "361/361 [==============================] - 1s 2ms/step\n",
            "361/361 [==============================] - 1s 2ms/step\n"
          ]
        },
        {
          "output_type": "stream",
          "name": "stderr",
          "text": [
            "\r 47%|████▋     | 28/60 [02:37<03:00,  5.63s/it]"
          ]
        },
        {
          "output_type": "stream",
          "name": "stdout",
          "text": [
            "Pruned accuracy: 98.64899974019225 Pruned attack rate: 0.0\n",
            "361/361 [==============================] - 1s 2ms/step\n",
            "361/361 [==============================] - 1s 2ms/step\n"
          ]
        },
        {
          "output_type": "stream",
          "name": "stderr",
          "text": [
            "\r 48%|████▊     | 29/60 [02:43<02:54,  5.62s/it]"
          ]
        },
        {
          "output_type": "stream",
          "name": "stdout",
          "text": [
            "Pruned accuracy: 98.64899974019225 Pruned attack rate: 0.0\n",
            "361/361 [==============================] - 1s 2ms/step\n",
            "361/361 [==============================] - 1s 2ms/step\n"
          ]
        },
        {
          "output_type": "stream",
          "name": "stderr",
          "text": [
            "\r 50%|█████     | 30/60 [02:49<02:48,  5.60s/it]"
          ]
        },
        {
          "output_type": "stream",
          "name": "stdout",
          "text": [
            "Pruned accuracy: 98.64899974019225 Pruned attack rate: 0.0\n",
            "361/361 [==============================] - 1s 2ms/step\n",
            "361/361 [==============================] - 1s 2ms/step\n"
          ]
        },
        {
          "output_type": "stream",
          "name": "stderr",
          "text": [
            "\r 52%|█████▏    | 31/60 [02:54<02:43,  5.63s/it]"
          ]
        },
        {
          "output_type": "stream",
          "name": "stdout",
          "text": [
            "Pruned accuracy: 98.64899974019225 Pruned attack rate: 0.0\n",
            "361/361 [==============================] - 1s 2ms/step\n",
            "361/361 [==============================] - 1s 2ms/step\n"
          ]
        },
        {
          "output_type": "stream",
          "name": "stderr",
          "text": [
            "\r 53%|█████▎    | 32/60 [03:00<02:37,  5.62s/it]"
          ]
        },
        {
          "output_type": "stream",
          "name": "stdout",
          "text": [
            "Pruned accuracy: 98.64899974019225 Pruned attack rate: 0.0\n",
            "361/361 [==============================] - 1s 2ms/step\n",
            "361/361 [==============================] - 1s 2ms/step\n"
          ]
        },
        {
          "output_type": "stream",
          "name": "stderr",
          "text": [
            "\r 55%|█████▌    | 33/60 [03:06<02:31,  5.63s/it]"
          ]
        },
        {
          "output_type": "stream",
          "name": "stdout",
          "text": [
            "Pruned accuracy: 98.64899974019225 Pruned attack rate: 0.0\n",
            "361/361 [==============================] - 1s 2ms/step\n",
            "361/361 [==============================] - 1s 2ms/step\n"
          ]
        },
        {
          "output_type": "stream",
          "name": "stderr",
          "text": [
            "\r 57%|█████▋    | 34/60 [03:11<02:26,  5.64s/it]"
          ]
        },
        {
          "output_type": "stream",
          "name": "stdout",
          "text": [
            "Pruned accuracy: 98.64033948211657 Pruned attack rate: 0.0\n",
            "361/361 [==============================] - 1s 2ms/step\n",
            "361/361 [==============================] - 1s 2ms/step\n"
          ]
        },
        {
          "output_type": "stream",
          "name": "stderr",
          "text": [
            "\r 58%|█████▊    | 35/60 [03:17<02:20,  5.62s/it]"
          ]
        },
        {
          "output_type": "stream",
          "name": "stdout",
          "text": [
            "Pruned accuracy: 98.64033948211657 Pruned attack rate: 0.0\n",
            "361/361 [==============================] - 1s 2ms/step\n",
            "361/361 [==============================] - 1s 2ms/step\n"
          ]
        },
        {
          "output_type": "stream",
          "name": "stderr",
          "text": [
            "\r 60%|██████    | 36/60 [03:22<02:14,  5.60s/it]"
          ]
        },
        {
          "output_type": "stream",
          "name": "stdout",
          "text": [
            "Pruned accuracy: 98.63167922404088 Pruned attack rate: 0.0\n",
            "361/361 [==============================] - 1s 2ms/step\n",
            "361/361 [==============================] - 1s 2ms/step\n"
          ]
        },
        {
          "output_type": "stream",
          "name": "stderr",
          "text": [
            "\r 62%|██████▏   | 37/60 [03:28<02:08,  5.61s/it]"
          ]
        },
        {
          "output_type": "stream",
          "name": "stdout",
          "text": [
            "Pruned accuracy: 98.65765999826795 Pruned attack rate: 0.0\n",
            "361/361 [==============================] - 1s 2ms/step\n",
            "361/361 [==============================] - 1s 2ms/step\n"
          ]
        },
        {
          "output_type": "stream",
          "name": "stderr",
          "text": [
            "\r 63%|██████▎   | 38/60 [03:33<02:02,  5.58s/it]"
          ]
        },
        {
          "output_type": "stream",
          "name": "stdout",
          "text": [
            "Pruned accuracy: 98.64899974019225 Pruned attack rate: 0.0\n",
            "361/361 [==============================] - 1s 2ms/step\n",
            "361/361 [==============================] - 1s 2ms/step\n"
          ]
        },
        {
          "output_type": "stream",
          "name": "stderr",
          "text": [
            "\r 65%|██████▌   | 39/60 [03:39<01:56,  5.54s/it]"
          ]
        },
        {
          "output_type": "stream",
          "name": "stdout",
          "text": [
            "Pruned accuracy: 98.6056984498138 Pruned attack rate: 0.0\n",
            "361/361 [==============================] - 1s 2ms/step\n",
            "361/361 [==============================] - 1s 2ms/step\n"
          ]
        },
        {
          "output_type": "stream",
          "name": "stderr",
          "text": [
            "\r 67%|██████▋   | 40/60 [03:45<01:51,  5.59s/it]"
          ]
        },
        {
          "output_type": "stream",
          "name": "stdout",
          "text": [
            "Pruned accuracy: 98.57105741751104 Pruned attack rate: 0.0\n",
            "361/361 [==============================] - 1s 2ms/step\n",
            "361/361 [==============================] - 1s 2ms/step\n"
          ]
        },
        {
          "output_type": "stream",
          "name": "stderr",
          "text": [
            "\r 68%|██████▊   | 41/60 [03:50<01:44,  5.53s/it]"
          ]
        },
        {
          "output_type": "stream",
          "name": "stdout",
          "text": [
            "Pruned accuracy: 98.53641638520828 Pruned attack rate: 0.0\n",
            "361/361 [==============================] - 1s 2ms/step\n",
            "361/361 [==============================] - 1s 2ms/step\n"
          ]
        },
        {
          "output_type": "stream",
          "name": "stderr",
          "text": [
            "\r 70%|███████   | 42/60 [03:55<01:38,  5.49s/it]"
          ]
        },
        {
          "output_type": "stream",
          "name": "stdout",
          "text": [
            "Pruned accuracy: 98.19000606218066 Pruned attack rate: 0.0\n",
            "361/361 [==============================] - 1s 2ms/step\n",
            "361/361 [==============================] - 1s 2ms/step\n"
          ]
        },
        {
          "output_type": "stream",
          "name": "stderr",
          "text": [
            "\r 72%|███████▏  | 43/60 [04:01<01:33,  5.50s/it]"
          ]
        },
        {
          "output_type": "stream",
          "name": "stdout",
          "text": [
            "Pruned accuracy: 97.65307006148784 Pruned attack rate: 0.0\n",
            "361/361 [==============================] - 1s 2ms/step\n",
            "361/361 [==============================] - 1s 2ms/step\n"
          ]
        },
        {
          "output_type": "stream",
          "name": "stderr",
          "text": [
            "\r 73%|███████▎  | 44/60 [04:06<01:27,  5.49s/it]"
          ]
        },
        {
          "output_type": "stream",
          "name": "stdout",
          "text": [
            "Pruned accuracy: 97.50584567420108 Pruned attack rate: 0.0\n",
            "361/361 [==============================] - 1s 2ms/step\n",
            "361/361 [==============================] - 1s 2ms/step\n"
          ]
        },
        {
          "output_type": "stream",
          "name": "stderr",
          "text": [
            "/usr/local/lib/python3.10/dist-packages/keras/src/engine/training.py:3079: UserWarning: You are saving your model as an HDF5 file via `model.save()`. This file format is considered legacy. We recommend using instead the native Keras format, e.g. `model.save('my_model.keras')`.\n",
            "  saving_api.save_model(\n",
            "\r 75%|███████▌  | 45/60 [04:12<01:22,  5.53s/it]"
          ]
        },
        {
          "output_type": "stream",
          "name": "stdout",
          "text": [
            "Pruned accuracy: 95.75647354291158 Pruned attack rate: 0.0\n",
            "361/361 [==============================] - 1s 2ms/step\n",
            "361/361 [==============================] - 1s 2ms/step\n"
          ]
        },
        {
          "output_type": "stream",
          "name": "stderr",
          "text": [
            "\r 77%|███████▋  | 46/60 [04:18<01:17,  5.52s/it]"
          ]
        },
        {
          "output_type": "stream",
          "name": "stdout",
          "text": [
            "Pruned accuracy: 95.20221702606739 Pruned attack rate: 0.00866025807569315\n",
            "361/361 [==============================] - 1s 2ms/step\n",
            "361/361 [==============================] - 1s 2ms/step\n"
          ]
        },
        {
          "output_type": "stream",
          "name": "stderr",
          "text": [
            "\r 78%|███████▊  | 47/60 [04:23<01:11,  5.52s/it]"
          ]
        },
        {
          "output_type": "stream",
          "name": "stdout",
          "text": [
            "Pruned accuracy: 94.7172425738287 Pruned attack rate: 0.00866025807569315\n",
            "361/361 [==============================] - 1s 2ms/step\n",
            "361/361 [==============================] - 1s 2ms/step\n"
          ]
        },
        {
          "output_type": "stream",
          "name": "stderr",
          "text": [
            "\r 80%|████████  | 48/60 [04:29<01:06,  5.53s/it]"
          ]
        },
        {
          "output_type": "stream",
          "name": "stdout",
          "text": [
            "Pruned accuracy: 92.09318437689443 Pruned attack rate: 0.00866025807569315\n",
            "361/361 [==============================] - 1s 2ms/step\n",
            "361/361 [==============================] - 1s 2ms/step\n"
          ]
        },
        {
          "output_type": "stream",
          "name": "stderr",
          "text": [
            "\r 82%|████████▏ | 49/60 [04:34<01:01,  5.57s/it]"
          ]
        },
        {
          "output_type": "stream",
          "name": "stdout",
          "text": [
            "Pruned accuracy: 91.49562656967177 Pruned attack rate: 0.00866025807569315\n",
            "361/361 [==============================] - 1s 2ms/step\n",
            "361/361 [==============================] - 1s 2ms/step\n"
          ]
        },
        {
          "output_type": "stream",
          "name": "stderr",
          "text": [
            "\r 83%|████████▎ | 50/60 [04:40<00:55,  5.56s/it]"
          ]
        },
        {
          "output_type": "stream",
          "name": "stdout",
          "text": [
            "Pruned accuracy: 91.01931237550879 Pruned attack rate: 0.0173205161513863\n",
            "361/361 [==============================] - 1s 2ms/step\n",
            "361/361 [==============================] - 1s 2ms/step\n"
          ]
        },
        {
          "output_type": "stream",
          "name": "stderr",
          "text": [
            "\r 85%|████████▌ | 51/60 [04:45<00:49,  5.53s/it]"
          ]
        },
        {
          "output_type": "stream",
          "name": "stdout",
          "text": [
            "Pruned accuracy: 89.17467740538669 Pruned attack rate: 19.260413960336024\n",
            "361/361 [==============================] - 1s 2ms/step\n",
            "361/361 [==============================] - 1s 2ms/step\n"
          ]
        },
        {
          "output_type": "stream",
          "name": "stderr",
          "text": [
            "\r 85%|████████▌ | 51/60 [04:51<00:51,  5.71s/it]"
          ]
        },
        {
          "output_type": "stream",
          "name": "stdout",
          "text": [
            "Pruned accuracy: 84.43751623798389 Pruned attack rate: 22.984324932883\n"
          ]
        },
        {
          "output_type": "stream",
          "name": "stderr",
          "text": [
            "\n"
          ]
        }
      ]
    },
    {
      "cell_type": "code",
      "source": [
        "from matplotlib import pyplot as plt\n",
        "plt.plot(range(len(accuracies)), accuracies)\n",
        "plt.plot(range(len(attack_rate)), attack_rate)\n",
        "plt.legend(['Clean accuracy', 'Attack rate'])\n",
        "plt.xlabel('Number of channels removed')\n",
        "plt.show()"
      ],
      "metadata": {
        "colab": {
          "base_uri": "https://localhost:8080/",
          "height": 449
        },
        "id": "MNSXZyKn1-vz",
        "outputId": "26919ba2-af58-47ab-9a32-1df43929ff35"
      },
      "execution_count": 23,
      "outputs": [
        {
          "output_type": "display_data",
          "data": {
            "text/plain": [
              "<Figure size 640x480 with 1 Axes>"
            ],
            "image/png": "[encoded data removed]"
          },
          "metadata": {}
        }
      ]
    },
    {
      "cell_type": "markdown",
      "source": [
        "## Creating the Goodnet for pruning defense"
      ],
      "metadata": {
        "id": "ZC7pv9GlYKnp"
      }
    },
    {
      "cell_type": "code",
      "source": [
        "b = load_model(os.path.join(model_folder, 'bd_net.h5'))\n",
        "b.load_weights(os.path.join(model_folder, 'bd_weights.h5'))"
      ],
      "metadata": {
        "id": "toDr0l3wehyL"
      },
      "execution_count": 24,
      "outputs": []
    },
    {
      "cell_type": "code",
      "source": [
        "N = b.get_layer('output').output_shape[-1]"
      ],
      "metadata": {
        "id": "HRWxIlODeit2"
      },
      "execution_count": 25,
      "outputs": []
    },
    {
      "cell_type": "code",
      "source": [
        "class G(keras.Model):\n",
        "  def __init__(self, B, B_pruned):\n",
        "      super(G, self).__init__()\n",
        "      self.B = B\n",
        "      self.B_pruned = B_pruned\n",
        "\n",
        "  def predict(self,data):\n",
        "      y = np.argmax(self.B(data), axis=1)\n",
        "      y_prime = np.argmax(self.B_pruned(data), axis=1)\n",
        "      pred = np.zeros(data.shape[0])\n",
        "      for i in range(data.shape[0]):\n",
        "        if y[i]==y_prime[i]:\n",
        "          pred[i] = y[i]\n",
        "        else:\n",
        "          ## assigning class as N+1\n",
        "          pred[i] = N\n",
        "      return pred"
      ],
      "metadata": {
        "id": "Q0aiS6WVXqDs"
      },
      "execution_count": 26,
      "outputs": []
    },
    {
      "cell_type": "code",
      "source": [
        "cl_data = h5py.File('cl/test.h5', 'r')\n",
        "x_test, y_test = np.array(cl_data['data']),  np.array(cl_data['label'])\n",
        "x_test = x_test.transpose((0,2,3,1))\n",
        "\n",
        "bd_data = h5py.File('bd/bd_test.h5', 'r')\n",
        "x_bd_test, y_bd_test = np.array(bd_data['data']),  np.array(bd_data['label'])\n",
        "x_bd_test = x_bd_test.transpose((0,2,3,1))\n"
      ],
      "metadata": {
        "id": "KBMoh_nRhw2g"
      },
      "execution_count": 27,
      "outputs": []
    },
    {
      "cell_type": "code",
      "source": [
        "print(\"x_test_data shape: \",x_test.shape)\n",
        "print(\"x_test_poisoned data shape: \",x_bd_test.shape)"
      ],
      "metadata": {
        "colab": {
          "base_uri": "https://localhost:8080/"
        },
        "id": "fpoiQTHPmnmV",
        "outputId": "006e927d-96cc-4eb2-beb5-7fbe8cff69e6"
      },
      "execution_count": 28,
      "outputs": [
        {
          "output_type": "stream",
          "name": "stdout",
          "text": [
            "x_test_data shape:  (12830, 55, 47, 3)\n",
            "x_test_poisoned data shape:  (12830, 55, 47, 3)\n"
          ]
        }
      ]
    },
    {
      "cell_type": "code",
      "source": [
        "testing_dict = {}"
      ],
      "metadata": {
        "id": "I0rAWPtptMaK"
      },
      "execution_count": 29,
      "outputs": []
    },
    {
      "cell_type": "markdown",
      "source": [
        "### Evaluating the Goodnet"
      ],
      "metadata": {
        "id": "gddxAtBSuSpu"
      }
    },
    {
      "cell_type": "code",
      "source": [
        "b_2 = keras.models.load_model('bprime_2.h5')\n",
        "G_2 = G(b, b_2)\n",
        "\n",
        "cl_pred = G_2.predict(x_test)\n",
        "accu = np.mean(np.equal(cl_pred, y_test))*100\n",
        "\n",
        "bd_pred = G_2.predict(x_bd_test)\n",
        "asr = np.sum(bd_pred == N)/len(bd_pred)*100\n",
        "# asr = np.mean(np.equal(bd_pred, y_bd_test))*100\n",
        "\n",
        "print(f'Clean test accuracy: {accu:.2f}% attack rate: {asr:.2f}%')\n",
        "testing_dict['G_2'] = [accu, asr]"
      ],
      "metadata": {
        "colab": {
          "base_uri": "https://localhost:8080/"
        },
        "id": "mNg0NewZhqA4",
        "outputId": "53f1df81-cf40-4f7f-a716-a03bacd1a173"
      },
      "execution_count": 30,
      "outputs": [
        {
          "output_type": "stream",
          "name": "stdout",
          "text": [
            "Clean test accuracy: 95.74% attack rate: 0.00%\n"
          ]
        }
      ]
    },
    {
      "cell_type": "code",
      "source": [
        "b_4 = keras.models.load_model('bprime_4.h5')\n",
        "G_4 = G(b, b_4)\n",
        "\n",
        "cl_pred = G_4.predict(x_test)\n",
        "accu = np.mean(np.equal(cl_pred, y_test))*100\n",
        "\n",
        "bd_pred = G_4.predict(x_bd_test)\n",
        "# asr = np.mean(np.equal(bd_pred, y_bd_test))*100\n",
        "asr = np.sum(bd_pred == N)/len(bd_pred)*100\n",
        "\n",
        "print(f'Clean test accuracy: {accu:.2f}% attack rate: {asr:.2f}%')\n",
        "testing_dict['G_4'] = [accu, asr]"
      ],
      "metadata": {
        "colab": {
          "base_uri": "https://localhost:8080/"
        },
        "id": "9PffNPE1X5SB",
        "outputId": "3b5b5de9-aafe-4517-d4c4-e56c666544a0"
      },
      "execution_count": 31,
      "outputs": [
        {
          "output_type": "stream",
          "name": "stdout",
          "text": [
            "Clean test accuracy: 92.13% attack rate: 0.02%\n"
          ]
        }
      ]
    },
    {
      "cell_type": "code",
      "source": [
        "b_10 = keras.models.load_model('bprime_10.h5')\n",
        "G_10 = G(b, b_10)\n",
        "\n",
        "cl_pred = G_10.predict(x_test)\n",
        "accu = np.mean(np.equal(cl_pred, y_test))*100\n",
        "\n",
        "bd_pred = G_10.predict(x_bd_test)\n",
        "# asr = np.mean(np.equal(bd_pred, y_bd_test))*100\n",
        "asr = np.sum(bd_pred == N)/len(bd_pred)*100\n",
        "\n",
        "print(f'Clean test accuracy: {accu:.2f}% attack rate: {asr:.2f}%')\n",
        "testing_dict['G_10'] = [accu, asr]"
      ],
      "metadata": {
        "colab": {
          "base_uri": "https://localhost:8080/"
        },
        "id": "FmtOkpJzd1eD",
        "outputId": "cdc42e6d-9a55-48cc-b608-d3af3d277996"
      },
      "execution_count": 32,
      "outputs": [
        {
          "output_type": "stream",
          "name": "stdout",
          "text": [
            "Clean test accuracy: 84.33% attack rate: 22.79%\n"
          ]
        }
      ]
    },
    {
      "cell_type": "code",
      "source": [
        "import pandas as pd\n",
        "df = pd.DataFrame.from_dict(testing_dict, orient='index', columns=['Clean accuracy', 'Attack rate'])"
      ],
      "metadata": {
        "id": "apFpXUB6tZlv"
      },
      "execution_count": 33,
      "outputs": []
    },
    {
      "cell_type": "code",
      "source": [
        "df.plot.bar(stacked=True)"
      ],
      "metadata": {
        "colab": {
          "base_uri": "https://localhost:8080/",
          "height": 469
        },
        "id": "Pc6ctImntgfy",
        "outputId": "6cdf145f-30c6-4100-80e2-bef17b552fee"
      },
      "execution_count": 34,
      "outputs": [
        {
          "output_type": "execute_result",
          "data": {
            "text/plain": [
              "<Axes: >"
            ]
          },
          "metadata": {},
          "execution_count": 34
        },
        {
          "output_type": "display_data",
          "data": {
            "text/plain": [
              "<Figure size 640x480 with 1 Axes>"
            ],
            "image/png": "[encoded data removed]"
          },
          "metadata": {}
        }
      ]
    },
    {
      "cell_type": "code",
      "source": [
        "df"
      ],
      "metadata": {
        "colab": {
          "base_uri": "https://localhost:8080/",
          "height": 203
        },
        "id": "6d6cj5Yu6FGE",
        "outputId": "dbd62c8d-0ea5-49f4-e0f9-1de971ea56cb"
      },
      "execution_count": 35,
      "outputs": [
        {
          "output_type": "execute_result",
          "data": {
            "text/plain": [
              "      Clean accuracy  Attack rate\n",
              "G_2        95.744349     0.000000\n",
              "G_4        92.127825     0.015588\n",
              "G_10       84.333593    22.790335"
            ],
            "text/html": [
              "\n",
              "  <div id=\"df-0cced7dc-f79e-4656-90a8-9a51bf0cf174\" class=\"colab-df-container\">\n",
              "    <div>\n",
              "<style scoped>\n",
              "    .dataframe tbody tr th:only-of-type {\n",
              "        vertical-align: middle;\n",
              "    }\n",
              "\n",
              "    .dataframe tbody tr th {\n",
              "        vertical-align: top;\n",
              "    }\n",
              "\n",
              "    .dataframe thead th {\n",
              "        text-align: right;\n",
              "    }\n",
              "</style>\n",
              "<table border=\"1\" class=\"dataframe\">\n",
              "  <thead>\n",
              "    <tr style=\"text-align: right;\">\n",
              "      <th></th>\n",
              "      <th>Clean accuracy</th>\n",
              "      <th>Attack rate</th>\n",
              "    </tr>\n",
              "  </thead>\n",
              "  <tbody>\n",
              "    <tr>\n",
              "      <th>G_2</th>\n",
              "      <td>95.744349</td>\n",
              "      <td>0.000000</td>\n",
              "    </tr>\n",
              "    <tr>\n",
              "      <th>G_4</th>\n",
              "      <td>92.127825</td>\n",
              "      <td>0.015588</td>\n",
              "    </tr>\n",
              "    <tr>\n",
              "      <th>G_10</th>\n",
              "      <td>84.333593</td>\n",
              "      <td>22.790335</td>\n",
              "    </tr>\n",
              "  </tbody>\n",
              "</table>\n",
              "</div>\n",
              "    <div class=\"colab-df-buttons\">\n",
              "\n",
              "  <div class=\"colab-df-container\">\n",
              "    <button class=\"colab-df-convert\" onclick=\"convertToInteractive('df-0cced7dc-f79e-4656-90a8-9a51bf0cf174')\"\n",
              "            title=\"Convert this dataframe to an interactive table.\"\n",
              "            style=\"display:none;\">\n",
              "\n",
              "  <svg xmlns=\"http://www.w3.org/2000/svg\" height=\"24px\" viewBox=\"0 -960 960 960\">\n",
              "    <path d=\"M120-120v-720h720v720H120Zm60-500h600v-160H180v160Zm220 220h160v-160H400v160Zm0 220h160v-160H400v160ZM180-400h160v-160H180v160Zm440 0h160v-160H620v160ZM180-180h160v-160H180v160Zm440 0h160v-160H620v160Z\"/>\n",
              "  </svg>\n",
              "    </button>\n",
              "\n",
              "  <style>\n",
              "    .colab-df-container {\n",
              "      display:flex;\n",
              "      gap: 12px;\n",
              "    }\n",
              "\n",
              "    .colab-df-convert {\n",
              "      background-color: #E8F0FE;\n",
              "      border: none;\n",
              "      border-radius: 50%;\n",
              "      cursor: pointer;\n",
              "      display: none;\n",
              "      fill: #1967D2;\n",
              "      height: 32px;\n",
              "      padding: 0 0 0 0;\n",
              "      width: 32px;\n",
              "    }\n",
              "\n",
              "    .colab-df-convert:hover {\n",
              "      background-color: #E2EBFA;\n",
              "      box-shadow: 0px 1px 2px rgba(60, 64, 67, 0.3), 0px 1px 3px 1px rgba(60, 64, 67, 0.15);\n",
              "      fill: #174EA6;\n",
              "    }\n",
              "\n",
              "    .colab-df-buttons div {\n",
              "      margin-bottom: 4px;\n",
              "    }\n",
              "\n",
              "    [theme=dark] .colab-df-convert {\n",
              "      background-color: #3B4455;\n",
              "      fill: #D2E3FC;\n",
              "    }\n",
              "\n",
              "    [theme=dark] .colab-df-convert:hover {\n",
              "      background-color: #434B5C;\n",
              "      box-shadow: 0px 1px 3px 1px rgba(0, 0, 0, 0.15);\n",
              "      filter: drop-shadow(0px 1px 2px rgba(0, 0, 0, 0.3));\n",
              "      fill: #FFFFFF;\n",
              "    }\n",
              "  </style>\n",
              "\n",
              "    <script>\n",
              "      const buttonEl =\n",
              "        document.querySelector('#df-0cced7dc-f79e-4656-90a8-9a51bf0cf174 button.colab-df-convert');\n",
              "      buttonEl.style.display =\n",
              "        google.colab.kernel.accessAllowed ? 'block' : 'none';\n",
              "\n",
              "      async function convertToInteractive(key) {\n",
              "        const element = document.querySelector('#df-0cced7dc-f79e-4656-90a8-9a51bf0cf174');\n",
              "        const dataTable =\n",
              "          await google.colab.kernel.invokeFunction('convertToInteractive',\n",
              "                                                    [key], {});\n",
              "        if (!dataTable) return;\n",
              "\n",
              "        const docLinkHtml = 'Like what you see? Visit the ' +\n",
              "          '<a target=\"_blank\" href=https://colab.research.google.com/notebooks/data_table.ipynb>data table notebook</a>'\n",
              "          + ' to learn more about interactive tables.';\n",
              "        element.innerHTML = '';\n",
              "        dataTable['output_type'] = 'display_data';\n",
              "        await google.colab.output.renderOutput(dataTable, element);\n",
              "        const docLink = document.createElement('div');\n",
              "        docLink.innerHTML = docLinkHtml;\n",
              "        element.appendChild(docLink);\n",
              "      }\n",
              "    </script>\n",
              "  </div>\n",
              "\n",
              "\n",
              "<div id=\"df-c0851835-513c-41b4-8545-0007d2e69230\">\n",
              "  <button class=\"colab-df-quickchart\" onclick=\"quickchart('df-c0851835-513c-41b4-8545-0007d2e69230')\"\n",
              "            title=\"Suggest charts\"\n",
              "            style=\"display:none;\">\n",
              "\n",
              "<svg xmlns=\"http://www.w3.org/2000/svg\" height=\"24px\"viewBox=\"0 0 24 24\"\n",
              "     width=\"24px\">\n",
              "    <g>\n",
              "        <path d=\"M19 3H5c-1.1 0-2 .9-2 2v14c0 1.1.9 2 2 2h14c1.1 0 2-.9 2-2V5c0-1.1-.9-2-2-2zM9 17H7v-7h2v7zm4 0h-2V7h2v10zm4 0h-2v-4h2v4z\"/>\n",
              "    </g>\n",
              "</svg>\n",
              "  </button>\n",
              "\n",
              "<style>\n",
              "  .colab-df-quickchart {\n",
              "      --bg-color: #E8F0FE;\n",
              "      --fill-color: #1967D2;\n",
              "      --hover-bg-color: #E2EBFA;\n",
              "      --hover-fill-color: #174EA6;\n",
              "      --disabled-fill-color: #AAA;\n",
              "      --disabled-bg-color: #DDD;\n",
              "  }\n",
              "\n",
              "  [theme=dark] .colab-df-quickchart {\n",
              "      --bg-color: #3B4455;\n",
              "      --fill-color: #D2E3FC;\n",
              "      --hover-bg-color: #434B5C;\n",
              "      --hover-fill-color: #FFFFFF;\n",
              "      --disabled-bg-color: #3B4455;\n",
              "      --disabled-fill-color: #666;\n",
              "  }\n",
              "\n",
              "  .colab-df-quickchart {\n",
              "    background-color: var(--bg-color);\n",
              "    border: none;\n",
              "    border-radius: 50%;\n",
              "    cursor: pointer;\n",
              "    display: none;\n",
              "    fill: var(--fill-color);\n",
              "    height: 32px;\n",
              "    padding: 0;\n",
              "    width: 32px;\n",
              "  }\n",
              "\n",
              "  .colab-df-quickchart:hover {\n",
              "    background-color: var(--hover-bg-color);\n",
              "    box-shadow: 0 1px 2px rgba(60, 64, 67, 0.3), 0 1px 3px 1px rgba(60, 64, 67, 0.15);\n",
              "    fill: var(--button-hover-fill-color);\n",
              "  }\n",
              "\n",
              "  .colab-df-quickchart-complete:disabled,\n",
              "  .colab-df-quickchart-complete:disabled:hover {\n",
              "    background-color: var(--disabled-bg-color);\n",
              "    fill: var(--disabled-fill-color);\n",
              "    box-shadow: none;\n",
              "  }\n",
              "\n",
              "  .colab-df-spinner {\n",
              "    border: 2px solid var(--fill-color);\n",
              "    border-color: transparent;\n",
              "    border-bottom-color: var(--fill-color);\n",
              "    animation:\n",
              "      spin 1s steps(1) infinite;\n",
              "  }\n",
              "\n",
              "  @keyframes spin {\n",
              "    0% {\n",
              "      border-color: transparent;\n",
              "      border-bottom-color: var(--fill-color);\n",
              "      border-left-color: var(--fill-color);\n",
              "    }\n",
              "    20% {\n",
              "      border-color: transparent;\n",
              "      border-left-color: var(--fill-color);\n",
              "      border-top-color: var(--fill-color);\n",
              "    }\n",
              "    30% {\n",
              "      border-color: transparent;\n",
              "      border-left-color: var(--fill-color);\n",
              "      border-top-color: var(--fill-color);\n",
              "      border-right-color: var(--fill-color);\n",
              "    }\n",
              "    40% {\n",
              "      border-color: transparent;\n",
              "      border-right-color: var(--fill-color);\n",
              "      border-top-color: var(--fill-color);\n",
              "    }\n",
              "    60% {\n",
              "      border-color: transparent;\n",
              "      border-right-color: var(--fill-color);\n",
              "    }\n",
              "    80% {\n",
              "      border-color: transparent;\n",
              "      border-right-color: var(--fill-color);\n",
              "      border-bottom-color: var(--fill-color);\n",
              "    }\n",
              "    90% {\n",
              "      border-color: transparent;\n",
              "      border-bottom-color: var(--fill-color);\n",
              "    }\n",
              "  }\n",
              "</style>\n",
              "\n",
              "  <script>\n",
              "    async function quickchart(key) {\n",
              "      const quickchartButtonEl =\n",
              "        document.querySelector('#' + key + ' button');\n",
              "      quickchartButtonEl.disabled = true;  // To prevent multiple clicks.\n",
              "      quickchartButtonEl.classList.add('colab-df-spinner');\n",
              "      try {\n",
              "        const charts = await google.colab.kernel.invokeFunction(\n",
              "            'suggestCharts', [key], {});\n",
              "      } catch (error) {\n",
              "        console.error('Error during call to suggestCharts:', error);\n",
              "      }\n",
              "      quickchartButtonEl.classList.remove('colab-df-spinner');\n",
              "      quickchartButtonEl.classList.add('colab-df-quickchart-complete');\n",
              "    }\n",
              "    (() => {\n",
              "      let quickchartButtonEl =\n",
              "        document.querySelector('#df-c0851835-513c-41b4-8545-0007d2e69230 button');\n",
              "      quickchartButtonEl.style.display =\n",
              "        google.colab.kernel.accessAllowed ? 'block' : 'none';\n",
              "    })();\n",
              "  </script>\n",
              "</div>\n",
              "\n",
              "  <div id=\"id_075c6f7f-ea17-4b86-a032-32595d62d7af\">\n",
              "    <style>\n",
              "      .colab-df-generate {\n",
              "        background-color: #E8F0FE;\n",
              "        border: none;\n",
              "        border-radius: 50%;\n",
              "        cursor: pointer;\n",
              "        display: none;\n",
              "        fill: #1967D2;\n",
              "        height: 32px;\n",
              "        padding: 0 0 0 0;\n",
              "        width: 32px;\n",
              "      }\n",
              "\n",
              "      .colab-df-generate:hover {\n",
              "        background-color: #E2EBFA;\n",
              "        box-shadow: 0px 1px 2px rgba(60, 64, 67, 0.3), 0px 1px 3px 1px rgba(60, 64, 67, 0.15);\n",
              "        fill: #174EA6;\n",
              "      }\n",
              "\n",
              "      [theme=dark] .colab-df-generate {\n",
              "        background-color: #3B4455;\n",
              "        fill: #D2E3FC;\n",
              "      }\n",
              "\n",
              "      [theme=dark] .colab-df-generate:hover {\n",
              "        background-color: #434B5C;\n",
              "        box-shadow: 0px 1px 3px 1px rgba(0, 0, 0, 0.15);\n",
              "        filter: drop-shadow(0px 1px 2px rgba(0, 0, 0, 0.3));\n",
              "        fill: #FFFFFF;\n",
              "      }\n",
              "    </style>\n",
              "    <button class=\"colab-df-generate\" onclick=\"generateWithVariable('df')\"\n",
              "            title=\"Generate code using this dataframe.\"\n",
              "            style=\"display:none;\">\n",
              "\n",
              "  <svg xmlns=\"http://www.w3.org/2000/svg\" height=\"24px\"viewBox=\"0 0 24 24\"\n",
              "       width=\"24px\">\n",
              "    <path d=\"M7,19H8.4L18.45,9,17,7.55,7,17.6ZM5,21V16.75L18.45,3.32a2,2,0,0,1,2.83,0l1.4,1.43a1.91,1.91,0,0,1,.58,1.4,1.91,1.91,0,0,1-.58,1.4L9.25,21ZM18.45,9,17,7.55Zm-12,3A5.31,5.31,0,0,0,4.9,8.1,5.31,5.31,0,0,0,1,6.5,5.31,5.31,0,0,0,4.9,4.9,5.31,5.31,0,0,0,6.5,1,5.31,5.31,0,0,0,8.1,4.9,5.31,5.31,0,0,0,12,6.5,5.46,5.46,0,0,0,6.5,12Z\"/>\n",
              "  </svg>\n",
              "    </button>\n",
              "    <script>\n",
              "      (() => {\n",
              "      const buttonEl =\n",
              "        document.querySelector('#id_075c6f7f-ea17-4b86-a032-32595d62d7af button.colab-df-generate');\n",
              "      buttonEl.style.display =\n",
              "        google.colab.kernel.accessAllowed ? 'block' : 'none';\n",
              "\n",
              "      buttonEl.onclick = () => {\n",
              "        google.colab.notebook.generateWithVariable('df');\n",
              "      }\n",
              "      })();\n",
              "    </script>\n",
              "  </div>\n",
              "\n",
              "    </div>\n",
              "  </div>\n"
            ]
          },
          "metadata": {},
          "execution_count": 35
        }
      ]
    }
  ]
}